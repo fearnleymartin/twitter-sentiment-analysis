{
 "cells": [
  {
   "cell_type": "code",
   "execution_count": 2,
   "metadata": {
    "collapsed": false
   },
   "outputs": [
    {
     "name": "stderr",
     "output_type": "stream",
     "text": [
      "C:\\Users\\Germanicus\\Anaconda3\\lib\\site-packages\\gensim\\utils.py:840: UserWarning: detected Windows; aliasing chunkize to chunkize_serial\n",
      "  warnings.warn(\"detected Windows; aliasing chunkize to chunkize_serial\")\n",
      "C:\\Users\\Germanicus\\Anaconda3\\lib\\site-packages\\gensim\\utils.py:1015: UserWarning: Pattern library is not installed, lemmatization won't be available.\n",
      "  warnings.warn(\"Pattern library is not installed, lemmatization won't be available.\")\n"
     ]
    }
   ],
   "source": [
    "%load_ext autoreload\n",
    "%autoreload 2\n",
    "import numpy as np\n",
    "from cleaner import *\n",
    "from word2vec import generateBin, Word2Vec\n",
    "from sklearn.linear_model import LogisticRegression\n",
    "from helpers import trainScore, simulateTest"
   ]
  },
  {
   "cell_type": "code",
   "execution_count": 3,
   "metadata": {
    "collapsed": true
   },
   "outputs": [],
   "source": [
    "pos = open ('train_pos.txt').readlines ()\n",
    "neg = open ('train_neg.txt').readlines ()\n",
    "test = open ('test_data.txt').readlines ()"
   ]
  },
  {
   "cell_type": "code",
   "execution_count": 16,
   "metadata": {
    "collapsed": false,
    "scrolled": true
   },
   "outputs": [
    {
     "name": "stdout",
     "output_type": "stream",
     "text": [
      "Lowering Tweets... [####################]    (100%)    ETA : 11:29:08\n"
     ]
    }
   ],
   "source": [
    "pos, pos_cleaned = processTweets (pos, ['lower'], 'train_pos_clean')"
   ]
  },
  {
   "cell_type": "code",
   "execution_count": 17,
   "metadata": {
    "collapsed": false
   },
   "outputs": [
    {
     "name": "stdout",
     "output_type": "stream",
     "text": [
      "Spell Checking\n",
      "\tUpdating Spell Check Dictionary... [####################]    (100%)    ETA : 12:22:51\n",
      "\tSpell Checking Tweets... [####################]    (100%)    ETA : 12:22:53\n",
      "Terminated\n"
     ]
    }
   ],
   "source": [
    "pos_correct = processTweets (pos_cleaned, ['spell check'], 'train_pos_correct') [1]"
   ]
  },
  {
   "cell_type": "code",
   "execution_count": 18,
   "metadata": {
    "collapsed": false
   },
   "outputs": [
    {
     "name": "stdout",
     "output_type": "stream",
     "text": [
      "Lowering Tweets... [####################]    (100%)    ETA : 12:23:05\n"
     ]
    }
   ],
   "source": [
    "neg, neg_cleaned = processTweets (neg, ['lower'], 'train_neg_clean')"
   ]
  },
  {
   "cell_type": "code",
   "execution_count": 19,
   "metadata": {
    "collapsed": false
   },
   "outputs": [
    {
     "name": "stdout",
     "output_type": "stream",
     "text": [
      "Spell Checking\n",
      "\tUpdating Spell Check Dictionary... [####################]    (100%)    ETA : 12:57:00\n",
      "\tSpell Checking Tweets... [####################]    (100%)    ETA : 12:57:02\n",
      "Terminated\n"
     ]
    }
   ],
   "source": [
    "neg_correct = processTweets (neg_cleaned, ['spell check'], 'train_neg_correct') [1]"
   ]
  },
  {
   "cell_type": "code",
   "execution_count": 25,
   "metadata": {
    "collapsed": true
   },
   "outputs": [],
   "source": [
    "with open ('train_full_correct.txt', 'w', encoding = 'utf-8') as f:\n",
    "    f.write ('\\n'.join (pos_correct) + '\\n'.join (neg_correct))"
   ]
  },
  {
   "cell_type": "code",
   "execution_count": 26,
   "metadata": {
    "collapsed": false
   },
   "outputs": [
    {
     "name": "stdout",
     "output_type": "stream",
     "text": [
      "Bin file full_correct_model.bin has been created\n"
     ]
    }
   ],
   "source": [
    "generateBin ('train_full_correct.txt', 'full_correct_model.bin', nbFeatures = 50)"
   ]
  },
  {
   "cell_type": "code",
   "execution_count": 30,
   "metadata": {
    "collapsed": false
   },
   "outputs": [
    {
     "name": "stdout",
     "output_type": "stream",
     "text": [
      "Word2Vec Instantiation\n",
      "\tConverting Train Set...\n",
      "\t\tExtracting Features from Positive Tweets... [####################]    (100%)    ETA : 18:41:02\n",
      "\t\tExtracting Features from Negative Tweets... [####################]    (100%)    ETA : 18:41:07\n",
      "\tStandardizing...\n",
      "Terminated\n"
     ]
    }
   ],
   "source": [
    "word2vec = Word2Vec ('word2vec.model.bin', pos_correct, neg_correct, 50)"
   ]
  },
  {
   "cell_type": "code",
   "execution_count": 31,
   "metadata": {
    "collapsed": false
   },
   "outputs": [
    {
     "data": {
      "text/plain": [
       "LogisticRegression(C=1.0, class_weight=None, dual=False, fit_intercept=True,\n",
       "          intercept_scaling=1, max_iter=100, multi_class='ovr', n_jobs=1,\n",
       "          penalty='l2', random_state=None, solver='liblinear', tol=0.0001,\n",
       "          verbose=0, warm_start=False)"
      ]
     },
     "execution_count": 31,
     "metadata": {},
     "output_type": "execute_result"
    }
   ],
   "source": [
    "clf_full = LogisticRegression ()\n",
    "clf_full.fit (word2vec.getX (), word2vec.getY ())"
   ]
  },
  {
   "cell_type": "code",
   "execution_count": 32,
   "metadata": {
    "collapsed": false
   },
   "outputs": [
    {
     "name": "stdout",
     "output_type": "stream",
     "text": [
      "Computing Train Score [####################]    (100%)    ETA : 18:41:23\n"
     ]
    },
    {
     "data": {
      "text/plain": [
       "0.6873292520516073"
      ]
     },
     "execution_count": 32,
     "metadata": {},
     "output_type": "execute_result"
    }
   ],
   "source": [
    "trainScore (word2vec.getX (), word2vec.getY (), clf_full)"
   ]
  },
  {
   "cell_type": "code",
   "execution_count": null,
   "metadata": {
    "collapsed": true
   },
   "outputs": [],
   "source": []
  }
 ],
 "metadata": {
  "anaconda-cloud": {},
  "kernelspec": {
   "display_name": "Python [Root]",
   "language": "python",
   "name": "Python [Root]"
  },
  "language_info": {
   "codemirror_mode": {
    "name": "ipython",
    "version": 3
   },
   "file_extension": ".py",
   "mimetype": "text/x-python",
   "name": "python",
   "nbconvert_exporter": "python",
   "pygments_lexer": "ipython3",
   "version": "3.5.2"
  }
 },
 "nbformat": 4,
 "nbformat_minor": 0
}
